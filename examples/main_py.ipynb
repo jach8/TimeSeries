{
 "cells": [
  {
   "cell_type": "code",
   "execution_count": 1,
   "metadata": {},
   "outputs": [
    {
     "name": "stdout",
     "output_type": "stream",
     "text": [
      "SPY\n"
     ]
    }
   ],
   "source": [
    "import numpy as np \n",
    "import pandas as pd \n",
    "from tqdm import tqdm \n",
    "import datetime as dt \n",
    "import matplotlib.pyplot as plt\n",
    "\n",
    "\n",
    "########################################################### \n",
    "# Updated test code\n",
    "data = pd.read_csv('data/stock_returns.csv', parse_dates=['Date'], index_col='Date').dropna(axis=1)\n",
    "data = data[\"2000-01-01\":].dropna(axis = 1)\n",
    "target = np.random.choice(data.columns, 1)[0]\n",
    "target = \"SPY\"\n",
    "features = data.drop(columns=target).iloc[:, :5]\n",
    "x = features.copy()\n",
    "y = data[target].copy()\n",
    "\n",
    "print(y.name)"
   ]
  },
  {
   "cell_type": "code",
   "execution_count": 2,
   "metadata": {},
   "outputs": [],
   "source": [
    "import sys \n",
    "sys.path.append('../')\n",
    "from main import Analyze\n",
    "\n",
    "# Setup Config: \n",
    "\n",
    "# Example configuration\n",
    "stationarity_cfg = {\n",
    "    'adf': {'max_diff': 5, 'significance': 0.05},\n",
    "    'kpss': {'significance': 0.05},\n",
    "    'pp': {'significance': 0.05},\n",
    "    'structural_break': True,\n",
    "    'gls': False,\n",
    "    'nonlinear': True\n",
    "}\n",
    "\n",
    "causality_cfg = {\n",
    "    'significance_level': 0.05,\n",
    "    'max_lag': 4\n",
    "}"
   ]
  },
  {
   "cell_type": "code",
   "execution_count": 3,
   "metadata": {},
   "outputs": [],
   "source": [
    "ac = Analyze(verbose = False, stationarity_config=stationarity_cfg, causality_config=causality_cfg)"
   ]
  },
  {
   "cell_type": "code",
   "execution_count": null,
   "metadata": {},
   "outputs": [
    {
     "name": "stderr",
     "output_type": "stream",
     "text": [
      "Stationarity PEP:   0%|          | 0/6 [00:00<?, ?it/s]  "
     ]
    }
   ],
   "source": [
    "res = ac.results(x, y, decompose = False)"
   ]
  },
  {
   "cell_type": "code",
   "execution_count": null,
   "metadata": {},
   "outputs": [],
   "source": []
  }
 ],
 "metadata": {
  "kernelspec": {
   "display_name": "TimeSeries",
   "language": "python",
   "name": "python3"
  },
  "language_info": {
   "codemirror_mode": {
    "name": "ipython",
    "version": 3
   },
   "file_extension": ".py",
   "mimetype": "text/x-python",
   "name": "python",
   "nbconvert_exporter": "python",
   "pygments_lexer": "ipython3",
   "version": "3.11.11"
  }
 },
 "nbformat": 4,
 "nbformat_minor": 2
}
