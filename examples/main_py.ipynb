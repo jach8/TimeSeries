{
 "cells": [
  {
   "cell_type": "code",
   "execution_count": 31,
   "metadata": {},
   "outputs": [
    {
     "name": "stdout",
     "output_type": "stream",
     "text": [
      "SPY\n"
     ]
    }
   ],
   "source": [
    "import numpy as np \n",
    "import pandas as pd \n",
    "from tqdm import tqdm \n",
    "import datetime as dt \n",
    "import matplotlib.pyplot as plt\n",
    "\n",
    "\n",
    "########################################################### \n",
    "# Updated test code\n",
    "data = pd.read_csv('data/stock_returns.csv', parse_dates=['Date'], index_col='Date').dropna(axis=1)\n",
    "data = data[\"2000-01-01\":].dropna(axis = 1)\n",
    "target = np.random.choice(data.columns, 1)[0]\n",
    "target = \"SPY\"\n",
    "features = data.drop(columns=target).iloc[:, :]\n",
    "x = features.copy()\n",
    "y = data[target].copy()\n",
    "\n",
    "print(y.name)"
   ]
  },
  {
   "cell_type": "code",
   "execution_count": 32,
   "metadata": {},
   "outputs": [],
   "source": [
    "import sys \n",
    "sys.path.append('../')\n",
    "from main import Analyze\n",
    "\n",
    "# Setup Config: \n",
    "\n",
    "# Example configuration\n",
    "stationarity_cfg = {\n",
    "    'adf': {'max_diff': 5, 'significance': 0.05},\n",
    "    'kpss': {'significance': 0.05},\n",
    "    'pp': {'significance': 0.05},\n",
    "    'structural_break': True,\n",
    "    'gls': False,\n",
    "    'nonlinear': True\n",
    "}\n",
    "\n",
    "causality_cfg = {\n",
    "    'significance_level': 0.05,\n",
    "    'max_lag': 4\n",
    "}"
   ]
  },
  {
   "cell_type": "code",
   "execution_count": 33,
   "metadata": {},
   "outputs": [],
   "source": [
    "ac = Analyze(verbose = False, stationarity_config=stationarity_cfg, causality_config=causality_cfg)"
   ]
  },
  {
   "cell_type": "code",
   "execution_count": 34,
   "metadata": {},
   "outputs": [
    {
     "name": "stderr",
     "output_type": "stream",
     "text": [
      "Stationarity SPY: 100%|██████████| 45/45 [13:03<00:00, 17.42s/it] \n",
      "Granger Causality: SPY -> ORCL: 100%|██████████| 44/44 [00:01<00:00, 32.22it/s]\n"
     ]
    },
    {
     "name": "stdout",
     "output_type": "stream",
     "text": [
      "\n",
      "\n"
     ]
    }
   ],
   "source": [
    "res = ac.results(x, y, decompose = False)"
   ]
  },
  {
   "cell_type": "code",
   "execution_count": 35,
   "metadata": {},
   "outputs": [
    {
     "data": {
      "text/plain": [
       "{'granger': [(('SPY', 'PEP'), array([1, 2, 3])),\n",
       "  (('SPY', 'CVX'), array([1, 2, 3])),\n",
       "  (('SPY', 'MO'), array([1])),\n",
       "  (('SPY', 'INTC'), array([2, 3])),\n",
       "  (('SPY', 'MU'), array([1, 2, 3])),\n",
       "  (('SPY', 'LMT'), array([1, 2, 3])),\n",
       "  (('SPY', 'WFC'), array([2, 3])),\n",
       "  (('SPY', 'IBM'), array([1])),\n",
       "  (('SPY', 'AMD'), array([1, 2, 3])),\n",
       "  (('SPY', 'XOM'), array([2, 3])),\n",
       "  (('SPY', 'SBUX'), array([2, 3])),\n",
       "  (('SPY', 'KR'), array([2, 3])),\n",
       "  (('SPY', 'BA'), array([2, 3])),\n",
       "  (('SPY', 'GE'), array([2])),\n",
       "  (('SPY', 'AA'), array([3])),\n",
       "  (('SPY', 'DIS'), array([2, 3])),\n",
       "  (('SPY', 'CSCO'), array([1, 2, 3])),\n",
       "  (('SPY', 'CVS'), array([2, 3])),\n",
       "  (('SPY', 'KO'), array([1, 2, 3])),\n",
       "  (('SPY', 'OXY'), array([2, 3])),\n",
       "  (('SPY', 'EOG'), array([3])),\n",
       "  (('SPY', 'CLX'), array([1, 2, 3])),\n",
       "  (('SPY', 'JPM'), array([2, 3])),\n",
       "  (('SPY', 'K'), array([2, 3])),\n",
       "  (('SPY', 'PGR'), array([2])),\n",
       "  (('SPY', 'AMAT'), array([1, 2, 3]))],\n",
       " 'instantaneous': [('SPY', 'PEP'),\n",
       "  ('SPY', 'MMM'),\n",
       "  ('SPY', 'WMT'),\n",
       "  ('SPY', 'CVX'),\n",
       "  ('SPY', 'MO'),\n",
       "  ('SPY', 'INTC'),\n",
       "  ('SPY', 'MU'),\n",
       "  ('SPY', 'RRC'),\n",
       "  ('SPY', 'LMT'),\n",
       "  ('SPY', 'WFC'),\n",
       "  ('SPY', 'QCOM'),\n",
       "  ('SPY', 'MOS'),\n",
       "  ('SPY', 'TGT'),\n",
       "  ('SPY', 'F'),\n",
       "  ('SPY', 'IBM'),\n",
       "  ('SPY', 'AMD'),\n",
       "  ('SPY', 'XOM'),\n",
       "  ('SPY', 'SBUX'),\n",
       "  ('SPY', 'KR'),\n",
       "  ('SPY', 'WBA'),\n",
       "  ('SPY', 'BA'),\n",
       "  ('SPY', 'GE'),\n",
       "  ('SPY', 'AA'),\n",
       "  ('SPY', 'DIS'),\n",
       "  ('SPY', 'CSCO'),\n",
       "  ('SPY', 'CVS'),\n",
       "  ('SPY', 'KO'),\n",
       "  ('SPY', 'CTRA'),\n",
       "  ('SPY', 'TSN'),\n",
       "  ('SPY', 'OXY'),\n",
       "  ('SPY', 'X'),\n",
       "  ('SPY', 'EOG'),\n",
       "  ('SPY', 'CLX'),\n",
       "  ('SPY', 'JPM'),\n",
       "  ('SPY', 'K'),\n",
       "  ('SPY', 'SONY'),\n",
       "  ('SPY', 'CAG'),\n",
       "  ('SPY', 'PGR'),\n",
       "  ('SPY', 'AFL'),\n",
       "  ('SPY', 'AIG'),\n",
       "  ('SPY', 'AMAT'),\n",
       "  ('SPY', 'DLTR'),\n",
       "  ('SPY', 'ADBE'),\n",
       "  ('SPY', 'ORCL')],\n",
       " 'impulse_response': <statsmodels.tsa.vector_ar.irf.IRAnalysis at 0x309665c50>}"
      ]
     },
     "execution_count": 35,
     "metadata": {},
     "output_type": "execute_result"
    }
   ],
   "source": [
    "res['causality']"
   ]
  },
  {
   "cell_type": "code",
   "execution_count": 80,
   "metadata": {},
   "outputs": [],
   "source": [
    "m = res['causality']['impulse_response']"
   ]
  },
  {
   "cell_type": "code",
   "execution_count": 81,
   "metadata": {},
   "outputs": [],
   "source": [
    "# m.plot(impulse='SPY', response='AAPL', figsize=(10, 5))\n",
    "# plt.show()"
   ]
  },
  {
   "cell_type": "code",
   "execution_count": 97,
   "metadata": {},
   "outputs": [],
   "source": [
    "res.keys()\n",
    "colnames = res['new_data'].columns.to_list()\n",
    "cols = [(i, j) for i, j in enumerate(colnames)]\n"
   ]
  },
  {
   "cell_type": "code",
   "execution_count": 98,
   "metadata": {},
   "outputs": [
    {
     "data": {
      "text/plain": [
       "45"
      ]
     },
     "execution_count": 98,
     "metadata": {},
     "output_type": "execute_result"
    }
   ],
   "source": [
    "\n",
    "len(cols)\n"
   ]
  },
  {
   "cell_type": "code",
   "execution_count": 108,
   "metadata": {},
   "outputs": [
    {
     "data": {
      "text/plain": [
       "AMAT    0.001265\n",
       "TGT     0.000279\n",
       "MOS     0.000214\n",
       "AIG    -0.000027\n",
       "CTRA   -0.000078\n",
       "MU     -0.000083\n",
       "CSCO   -0.000094\n",
       "SBUX   -0.000139\n",
       "AMD    -0.000150\n",
       "RRC    -0.000160\n",
       "DIS    -0.000210\n",
       "CLX    -0.000258\n",
       "ADBE   -0.000306\n",
       "DLTR   -0.000338\n",
       "JPM    -0.000342\n",
       "LMT    -0.000345\n",
       "KO     -0.000366\n",
       "OXY    -0.000374\n",
       "K      -0.000387\n",
       "PGR    -0.000486\n",
       "CAG    -0.000487\n",
       "AA     -0.000509\n",
       "SONY   -0.000549\n",
       "QCOM   -0.000551\n",
       "WBA    -0.000570\n",
       "EOG    -0.000578\n",
       "CVX    -0.000646\n",
       "IBM    -0.000654\n",
       "PEP    -0.000781\n",
       "X      -0.000787\n",
       "ORCL   -0.000872\n",
       "TSN    -0.000885\n",
       "KR     -0.000898\n",
       "MMM    -0.000911\n",
       "F      -0.000966\n",
       "GE     -0.000973\n",
       "CVS    -0.001051\n",
       "WFC    -0.001067\n",
       "BA     -0.001179\n",
       "WMT    -0.001222\n",
       "INTC   -0.001276\n",
       "XOM    -0.001346\n",
       "MO     -0.002187\n",
       "AFL    -0.002287\n",
       "SPY    -0.114138\n",
       "Name: SPY, dtype: float64"
      ]
     },
     "execution_count": 108,
     "metadata": {},
     "output_type": "execute_result"
    }
   ],
   "source": [
    "impulse_response_lag_1 = pd.DataFrame(m.irfs[2, :, :], columns=colnames, index = colnames)\n",
    "\n",
    "impulse_response_lag_1['SPY'].sort_values(ascending=False)"
   ]
  },
  {
   "cell_type": "code",
   "execution_count": 109,
   "metadata": {},
   "outputs": [
    {
     "data": {
      "text/plain": [
       "(2025, 1035)"
      ]
     },
     "execution_count": 109,
     "metadata": {},
     "output_type": "execute_result"
    }
   ],
   "source": [
    "m.H.shape"
   ]
  },
  {
   "cell_type": "code",
   "execution_count": 110,
   "metadata": {},
   "outputs": [],
   "source": [
    "cum_cov_effect = m.cum_effect_cov()"
   ]
  },
  {
   "cell_type": "code",
   "execution_count": 111,
   "metadata": {},
   "outputs": [
    {
     "data": {
      "text/plain": [
       "(11, 2025, 2025)"
      ]
     },
     "execution_count": 111,
     "metadata": {},
     "output_type": "execute_result"
    }
   ],
   "source": [
    "cum_cov_effect.shape"
   ]
  },
  {
   "cell_type": "code",
   "execution_count": 112,
   "metadata": {},
   "outputs": [
    {
     "data": {
      "text/plain": [
       "2025"
      ]
     },
     "execution_count": 112,
     "metadata": {},
     "output_type": "execute_result"
    }
   ],
   "source": [
    "45 * 45"
   ]
  },
  {
   "cell_type": "code",
   "execution_count": null,
   "metadata": {},
   "outputs": [],
   "source": []
  }
 ],
 "metadata": {
  "kernelspec": {
   "display_name": "TimeSeries",
   "language": "python",
   "name": "python3"
  },
  "language_info": {
   "codemirror_mode": {
    "name": "ipython",
    "version": 3
   },
   "file_extension": ".py",
   "mimetype": "text/x-python",
   "name": "python",
   "nbconvert_exporter": "python",
   "pygments_lexer": "ipython3",
   "version": "3.11.11"
  }
 },
 "nbformat": 4,
 "nbformat_minor": 2
}
