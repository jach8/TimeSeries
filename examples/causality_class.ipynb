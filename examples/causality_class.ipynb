{
 "cells": [
  {
   "cell_type": "code",
   "execution_count": 1,
   "metadata": {},
   "outputs": [
    {
     "name": "stdout",
     "output_type": "stream",
     "text": [
      "\n",
      "\n",
      " SPY \n",
      "\n",
      "\n"
     ]
    }
   ],
   "source": [
    "import numpy as np \n",
    "import pandas as pd \n",
    "from tqdm import tqdm \n",
    "import datetime as dt \n",
    "import matplotlib.pyplot as plt\n",
    "\n",
    "\n",
    "########################################################### \n",
    "# Updated test code\n",
    "data = pd.read_csv('data/stock_returns.csv', parse_dates=['Date'], index_col='Date').dropna(axis=1)\n",
    "data = data[\"2000-01-01\":].dropna(axis = 1)\n",
    "target = np.random.choice(data.columns, 1)[0]\n",
    "target = \"SPY\"\n",
    "features = data.drop(columns=target).iloc[:, :5]\n",
    "x = features.copy()\n",
    "y = data[target].copy()\n",
    "\n",
    "print('\\n\\n', y.name, '\\n\\n')"
   ]
  },
  {
   "cell_type": "code",
   "execution_count": 2,
   "metadata": {},
   "outputs": [],
   "source": [
    "import sys \n",
    "sys.path.append('../src')\n",
    "from causality_logic import CausalityAnalyzer\n",
    "\n",
    "default_config = {\n",
    "            'significance_level': 0.05,\n",
    "            'max_lag': 3\n",
    "        }\n",
    "\n",
    "ca = CausalityAnalyzer(causality_config=default_config, verbose = True)"
   ]
  },
  {
   "cell_type": "code",
   "execution_count": 4,
   "metadata": {},
   "outputs": [
    {
     "name": "stderr",
     "output_type": "stream",
     "text": [
      "Granger Causality: SPY -> ORCL: 100%|██████████| 47/47 [00:01<00:00, 28.91it/s]\n"
     ]
    }
   ],
   "source": [
    "results = ca.causality_tests(data = data, target = 'SPY')"
   ]
  },
  {
   "cell_type": "code",
   "execution_count": 5,
   "metadata": {},
   "outputs": [
    {
     "data": {
      "text/plain": [
       "dict_keys(['granger', 'instantaneous', 'contemporaneous'])"
      ]
     },
     "execution_count": 5,
     "metadata": {},
     "output_type": "execute_result"
    }
   ],
   "source": [
    "results.keys()"
   ]
  },
  {
   "cell_type": "code",
   "execution_count": 6,
   "metadata": {},
   "outputs": [
    {
     "data": {
      "text/plain": [
       "[(('SPY', 'PEP'), array([2, 3])),\n",
       " (('SPY', 'WMT'), array([1, 2, 3])),\n",
       " (('SPY', 'CVX'), array([2, 3])),\n",
       " (('SPY', 'INTC'), array([3])),\n",
       " (('SPY', 'MU'), array([2, 3])),\n",
       " (('SPY', 'LMT'), array([2, 3])),\n",
       " (('SPY', 'WFC'), array([3])),\n",
       " (('SPY', 'F'), array([1, 2])),\n",
       " (('SPY', 'AMD'), array([2, 3])),\n",
       " (('SPY', 'SBUX'), array([3])),\n",
       " (('SPY', 'KR'), array([3])),\n",
       " (('SPY', 'BA'), array([3])),\n",
       " (('SPY', 'AA'), array([1, 2, 3])),\n",
       " (('SPY', 'DIS'), array([3])),\n",
       " (('SPY', 'CSCO'), array([2, 3])),\n",
       " (('SPY', 'CVS'), array([3])),\n",
       " (('SPY', 'KO'), array([2, 3])),\n",
       " (('SPY', 'CLX'), array([3])),\n",
       " (('SPY', 'JPM'), array([3])),\n",
       " (('SPY', 'K'), array([3])),\n",
       " (('SPY', 'PGR'), array([1, 2, 3])),\n",
       " (('SPY', 'AMAT'), array([2, 3])),\n",
       " (('SPY', 'ORCL'), array([1, 2]))]"
      ]
     },
     "execution_count": 6,
     "metadata": {},
     "output_type": "execute_result"
    }
   ],
   "source": [
    "# Gives the pair of granger causality, and lags of the causing variable. \n",
    "results['granger']"
   ]
  },
  {
   "cell_type": "code",
   "execution_count": null,
   "metadata": {},
   "outputs": [],
   "source": []
  }
 ],
 "metadata": {
  "kernelspec": {
   "display_name": "TimeSeries",
   "language": "python",
   "name": "python3"
  },
  "language_info": {
   "codemirror_mode": {
    "name": "ipython",
    "version": 3
   },
   "file_extension": ".py",
   "mimetype": "text/x-python",
   "name": "python",
   "nbconvert_exporter": "python",
   "pygments_lexer": "ipython3",
   "version": "3.11.11"
  }
 },
 "nbformat": 4,
 "nbformat_minor": 2
}
