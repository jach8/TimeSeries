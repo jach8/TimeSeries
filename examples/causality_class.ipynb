{
 "cells": [
  {
   "cell_type": "code",
   "execution_count": 1,
   "metadata": {},
   "outputs": [
    {
     "name": "stdout",
     "output_type": "stream",
     "text": [
      "\n",
      "\n",
      " SPY \n",
      "\n",
      "\n"
     ]
    }
   ],
   "source": [
    "import numpy as np \n",
    "import pandas as pd \n",
    "from tqdm import tqdm \n",
    "import datetime as dt \n",
    "import matplotlib.pyplot as plt\n",
    "\n",
    "\n",
    "########################################################### \n",
    "# Updated test code\n",
    "data = pd.read_csv('data/stock_returns.csv', parse_dates=['Date'], index_col='Date').dropna(axis=1)\n",
    "data = data[\"2000-01-01\":].dropna(axis = 1)\n",
    "target = np.random.choice(data.columns, 1)[0]\n",
    "target = \"SPY\"\n",
    "features = data.drop(columns=target).iloc[:, :5]\n",
    "x = features.copy()\n",
    "y = data[target].copy()\n",
    "\n",
    "print('\\n\\n', y.name, '\\n\\n')"
   ]
  },
  {
   "cell_type": "code",
   "execution_count": 2,
   "metadata": {},
   "outputs": [],
   "source": [
    "import sys \n",
    "sys.path.append('../')\n",
    "from src.causality_logic import CausalityAnalyzer\n",
    "\n",
    "default_config = {\n",
    "            'significance_level': 0.05,\n",
    "            'max_lag': 3\n",
    "        }\n",
    "\n",
    "ca = CausalityAnalyzer(causality_config=default_config, verbose = True)"
   ]
  },
  {
   "cell_type": "code",
   "execution_count": 3,
   "metadata": {},
   "outputs": [
    {
     "name": "stderr",
     "output_type": "stream",
     "text": [
      "Granger Causality: SPY -> ORCL: 100%|██████████| 47/47 [00:01<00:00, 29.98it/s]"
     ]
    },
    {
     "name": "stdout",
     "output_type": "stream",
     "text": [
      "PEP Does Granger Cause SPY @ 0.05% confidence level, Lags: [2 3]\n",
      "WMT Does Granger Cause SPY @ 0.05% confidence level, Lags: [1 2 3]\n",
      "CVX Does Granger Cause SPY @ 0.05% confidence level, Lags: [2 3]\n",
      "INTC Does Granger Cause SPY @ 0.05% confidence level, Lags: [3]\n",
      "MU Does Granger Cause SPY @ 0.05% confidence level, Lags: [2 3]\n",
      "LMT Does Granger Cause SPY @ 0.05% confidence level, Lags: [2 3]\n",
      "WFC Does Granger Cause SPY @ 0.05% confidence level, Lags: [3]\n",
      "F Does Granger Cause SPY @ 0.05% confidence level, Lags: [1 2]\n",
      "AMD Does Granger Cause SPY @ 0.05% confidence level, Lags: [2 3]\n",
      "SBUX Does Granger Cause SPY @ 0.05% confidence level, Lags: [3]\n",
      "KR Does Granger Cause SPY @ 0.05% confidence level, Lags: [3]\n",
      "BA Does Granger Cause SPY @ 0.05% confidence level, Lags: [3]\n",
      "AA Does Granger Cause SPY @ 0.05% confidence level, Lags: [1 2 3]\n",
      "DIS Does Granger Cause SPY @ 0.05% confidence level, Lags: [3]\n",
      "CSCO Does Granger Cause SPY @ 0.05% confidence level, Lags: [2 3]\n",
      "CVS Does Granger Cause SPY @ 0.05% confidence level, Lags: [3]\n",
      "KO Does Granger Cause SPY @ 0.05% confidence level, Lags: [2 3]\n",
      "CLX Does Granger Cause SPY @ 0.05% confidence level, Lags: [3]\n",
      "JPM Does Granger Cause SPY @ 0.05% confidence level, Lags: [3]\n",
      "K Does Granger Cause SPY @ 0.05% confidence level, Lags: [3]\n",
      "PGR Does Granger Cause SPY @ 0.05% confidence level, Lags: [1 2 3]\n",
      "AMAT Does Granger Cause SPY @ 0.05% confidence level, Lags: [2 3]\n",
      "ORCL Does Granger Cause SPY @ 0.05% confidence level, Lags: [1 2]\n",
      "\n",
      "\n"
     ]
    },
    {
     "name": "stderr",
     "output_type": "stream",
     "text": [
      "\n"
     ]
    }
   ],
   "source": [
    "results = ca.causality_tests(data = data, target = 'SPY')"
   ]
  },
  {
   "cell_type": "code",
   "execution_count": 4,
   "metadata": {},
   "outputs": [
    {
     "data": {
      "text/plain": [
       "dict_keys(['granger', 'instantaneous'])"
      ]
     },
     "execution_count": 4,
     "metadata": {},
     "output_type": "execute_result"
    }
   ],
   "source": [
    "results.keys()"
   ]
  },
  {
   "cell_type": "code",
   "execution_count": 5,
   "metadata": {},
   "outputs": [
    {
     "data": {
      "text/plain": [
       "[]"
      ]
     },
     "execution_count": 5,
     "metadata": {},
     "output_type": "execute_result"
    }
   ],
   "source": [
    "# Gives the pair of granger causality, and lags of the causing variable. \n",
    "results['instantaneous']"
   ]
  },
  {
   "cell_type": "code",
   "execution_count": null,
   "metadata": {},
   "outputs": [],
   "source": []
  }
 ],
 "metadata": {
  "kernelspec": {
   "display_name": "TimeSeries",
   "language": "python",
   "name": "python3"
  },
  "language_info": {
   "codemirror_mode": {
    "name": "ipython",
    "version": 3
   },
   "file_extension": ".py",
   "mimetype": "text/x-python",
   "name": "python",
   "nbconvert_exporter": "python",
   "pygments_lexer": "ipython3",
   "version": "3.11.11"
  }
 },
 "nbformat": 4,
 "nbformat_minor": 2
}
