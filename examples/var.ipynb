{
 "cells": [
  {
   "cell_type": "code",
   "execution_count": null,
   "metadata": {},
   "outputs": [
    {
     "name": "stdout",
     "output_type": "stream",
     "text": [
      "Checking stationarity of features using ADF test at 0.05 confidence level...\n",
      "All features are now stationary.\n",
      "\n"
     ]
    },
    {
     "name": "stderr",
     "output_type": "stream",
     "text": [
      "/Users/jerald/opt/miniconda3/envs/TimeSeries/lib/python3.11/site-packages/statsmodels/tsa/base/tsa_model.py:473: ValueWarning: A date index has been provided, but it has no associated frequency information and so will be ignored when e.g. forecasting.\n",
      "  self._init_dates(dates, freq)\n",
      "/Users/jerald/opt/miniconda3/envs/TimeSeries/lib/python3.11/site-packages/statsmodels/tsa/base/tsa_model.py:473: ValueWarning: A date index has been provided, but it has no associated frequency information and so will be ignored when e.g. forecasting.\n",
      "  self._init_dates(dates, freq)\n"
     ]
    }
   ],
   "source": [
    "import pandas as pd \n",
    "import numpy as np\n",
    "import sys \n",
    "sys.path.append('../')\n",
    "from correlation import analyze_correlation\n",
    "\n",
    "\n",
    "data = pd.read_csv('data/stock_returns.csv', parse_dates=['Date'], index_col='Date').iloc[1:]\n",
    "data = data[\"2000-01-01\":].dropna(axis = 1)\n",
    "random_20_stocks = np.random.choice(data.columns, 60, replace = False)\n",
    "random_y = np.random.choice(random_20_stocks, 1, replace = False)[0]\n",
    "x = data.drop(columns = random_y).iloc[:-1]\n",
    "y = data[random_y].iloc[:-1]\n",
    "ac = analyze_correlation(x, y, verbose=True, decompose=False)\n",
    "results = ac.analyze()\n",
    "# print(results)"
   ]
  },
  {
   "cell_type": "code",
   "execution_count": null,
   "metadata": {},
   "outputs": [],
   "source": []
  }
 ],
 "metadata": {
  "kernelspec": {
   "display_name": "TimeSeries",
   "language": "python",
   "name": "python3"
  },
  "language_info": {
   "codemirror_mode": {
    "name": "ipython",
    "version": 3
   },
   "file_extension": ".py",
   "mimetype": "text/x-python",
   "name": "python",
   "nbconvert_exporter": "python",
   "pygments_lexer": "ipython3",
   "version": "3.11.11"
  }
 },
 "nbformat": 4,
 "nbformat_minor": 2
}
