{
 "cells": [
  {
   "cell_type": "markdown",
   "metadata": {},
   "source": [
    "### Stationarity and Differencing "
   ]
  },
  {
   "cell_type": "code",
   "execution_count": 4,
   "metadata": {},
   "outputs": [
    {
     "name": "stdout",
     "output_type": "stream",
     "text": [
      "\n",
      "\n",
      " SPY \n",
      "\n",
      "\n"
     ]
    }
   ],
   "source": [
    "import numpy as np \n",
    "import pandas as pd \n",
    "from tqdm import tqdm \n",
    "import datetime as dt \n",
    "import matplotlib.pyplot as plt\n",
    "\n",
    "\n",
    "########################################################### \n",
    "# Updated test code\n",
    "data = pd.read_csv('data/stock_returns.csv', parse_dates=['Date'], index_col='Date').dropna(axis=1)\n",
    "data = data[\"2000-01-01\":].dropna(axis = 1)\n",
    "target = np.random.choice(data.columns, 1)[0]\n",
    "target = \"SPY\"\n",
    "features = data.drop(columns=target).iloc[:, :5]\n",
    "x = features.copy()\n",
    "y = data[target].copy()\n",
    "\n",
    "print('\\n\\n', y.name, '\\n\\n')"
   ]
  },
  {
   "cell_type": "code",
   "execution_count": 5,
   "metadata": {},
   "outputs": [],
   "source": [
    "import sys \n",
    "sys.path.append('../src')\n",
    "from stationary_checks import StationaryTests"
   ]
  },
  {
   "cell_type": "code",
   "execution_count": 6,
   "metadata": {},
   "outputs": [],
   "source": [
    "stationarity_config = {\n",
    "    'adf': {'max_diff': 5, 'significance': 0.05},\n",
    "    'kpss': {'significance': 0.05},\n",
    "    'seasonal': None,\n",
    "    'structural_break': False,\n",
    "    'gls': False,\n",
    "    'nonlinear': True\n",
    "}\n",
    "\n",
    "sc = StationaryTests(test_config=stationarity_config, verbose = False)\n"
   ]
  },
  {
   "cell_type": "code",
   "execution_count": 8,
   "metadata": {},
   "outputs": [
    {
     "name": "stderr",
     "output_type": "stream",
     "text": [
      "Stationarity MO: 100%|██████████| 5/5 [00:04<00:00,  1.08it/s] \n"
     ]
    }
   ],
   "source": [
    "stationary_df, report, full_report = sc.check_stationarity(x)"
   ]
  },
  {
   "cell_type": "code",
   "execution_count": 9,
   "metadata": {},
   "outputs": [
    {
     "data": {
      "text/html": [
       "<div>\n",
       "<style scoped>\n",
       "    .dataframe tbody tr th:only-of-type {\n",
       "        vertical-align: middle;\n",
       "    }\n",
       "\n",
       "    .dataframe tbody tr th {\n",
       "        vertical-align: top;\n",
       "    }\n",
       "\n",
       "    .dataframe thead th {\n",
       "        text-align: right;\n",
       "    }\n",
       "</style>\n",
       "<table border=\"1\" class=\"dataframe\">\n",
       "  <thead>\n",
       "    <tr style=\"text-align: right;\">\n",
       "      <th></th>\n",
       "      <th>PEP_1</th>\n",
       "      <th>MMM_1</th>\n",
       "      <th>WMT_2</th>\n",
       "      <th>CVX_1</th>\n",
       "      <th>MO_1</th>\n",
       "    </tr>\n",
       "    <tr>\n",
       "      <th>Date</th>\n",
       "      <th></th>\n",
       "      <th></th>\n",
       "      <th></th>\n",
       "      <th></th>\n",
       "      <th></th>\n",
       "    </tr>\n",
       "  </thead>\n",
       "  <tbody>\n",
       "    <tr>\n",
       "      <th>2000-01-05</th>\n",
       "      <td>-0.8750</td>\n",
       "      <td>1.097408</td>\n",
       "      <td>0.395832</td>\n",
       "      <td>0.75000</td>\n",
       "      <td>-0.1250</td>\n",
       "    </tr>\n",
       "    <tr>\n",
       "      <th>2000-01-06</th>\n",
       "      <td>1.5625</td>\n",
       "      <td>3.135448</td>\n",
       "      <td>0.666668</td>\n",
       "      <td>1.81250</td>\n",
       "      <td>-0.4375</td>\n",
       "    </tr>\n",
       "    <tr>\n",
       "      <th>2000-01-07</th>\n",
       "      <td>1.0000</td>\n",
       "      <td>0.836121</td>\n",
       "      <td>1.374996</td>\n",
       "      <td>0.78125</td>\n",
       "      <td>0.6250</td>\n",
       "    </tr>\n",
       "    <tr>\n",
       "      <th>2000-01-10</th>\n",
       "      <td>-0.7500</td>\n",
       "      <td>-0.209030</td>\n",
       "      <td>-2.020828</td>\n",
       "      <td>-1.21875</td>\n",
       "      <td>0.3125</td>\n",
       "    </tr>\n",
       "    <tr>\n",
       "      <th>2000-01-11</th>\n",
       "      <td>-0.1250</td>\n",
       "      <td>-0.731606</td>\n",
       "      <td>0.083328</td>\n",
       "      <td>-0.40625</td>\n",
       "      <td>0.1250</td>\n",
       "    </tr>\n",
       "  </tbody>\n",
       "</table>\n",
       "</div>"
      ],
      "text/plain": [
       "             PEP_1     MMM_1     WMT_2    CVX_1    MO_1\n",
       "Date                                                   \n",
       "2000-01-05 -0.8750  1.097408  0.395832  0.75000 -0.1250\n",
       "2000-01-06  1.5625  3.135448  0.666668  1.81250 -0.4375\n",
       "2000-01-07  1.0000  0.836121  1.374996  0.78125  0.6250\n",
       "2000-01-10 -0.7500 -0.209030 -2.020828 -1.21875  0.3125\n",
       "2000-01-11 -0.1250 -0.731606  0.083328 -0.40625  0.1250"
      ]
     },
     "execution_count": 9,
     "metadata": {},
     "output_type": "execute_result"
    }
   ],
   "source": [
    "# New Stationary Data, with adjusted names to show differencing level \n",
    "stationary_df.head()"
   ]
  },
  {
   "cell_type": "code",
   "execution_count": 10,
   "metadata": {},
   "outputs": [
    {
     "data": {
      "text/plain": [
       "{'PEP': {'diffs_applied': 1, 'final_status': 'stationary'},\n",
       " 'MMM': {'diffs_applied': 1, 'final_status': 'stationary'},\n",
       " 'WMT': {'diffs_applied': 2, 'final_status': 'stationary'},\n",
       " 'CVX': {'diffs_applied': 1, 'final_status': 'stationary'},\n",
       " 'MO': {'diffs_applied': 1, 'final_status': 'stationary'}}"
      ]
     },
     "execution_count": 10,
     "metadata": {},
     "output_type": "execute_result"
    }
   ],
   "source": [
    "# Report \n",
    "report "
   ]
  },
  {
   "cell_type": "code",
   "execution_count": 12,
   "metadata": {},
   "outputs": [
    {
     "data": {
      "text/plain": [
       "{'PEP': [{'adf': {'p': 0.8481259254164938,\n",
       "    'stationary': False,\n",
       "    'test': 'ADF',\n",
       "    'alpha': 0.05},\n",
       "   'kpss': {'p': 0.01, 'stationary': False, 'test': 'KPSS', 'alpha': 0.05},\n",
       "   'kss': {'test': 'KSS (custom)',\n",
       "    'statistic': -1.5489210794779953,\n",
       "    'p': 0.5,\n",
       "    'critical_values': {'1%': -3.48, '5%': -2.93, '10%': -2.66},\n",
       "    'stationary': False,\n",
       "    'alpha': 0.05,\n",
       "    'warning': 'Critical values approximated for T=100, use bootstrap for exact values'}},\n",
       "  {'adf': {'p': 4.6097091569270295e-28,\n",
       "    'stationary': True,\n",
       "    'test': 'ADF',\n",
       "    'alpha': 0.05},\n",
       "   'kpss': {'p': 0.1, 'stationary': True, 'test': 'KPSS', 'alpha': 0.05},\n",
       "   'kss': {'test': 'KSS (custom)',\n",
       "    'statistic': -43.33327467262228,\n",
       "    'p': 0.01,\n",
       "    'critical_values': {'1%': -3.48, '5%': -2.93, '10%': -2.66},\n",
       "    'stationary': True,\n",
       "    'alpha': 0.05,\n",
       "    'warning': 'Critical values approximated for T=100, use bootstrap for exact values'}}],\n",
       " 'MMM': [{'adf': {'p': 0.6415390890050605,\n",
       "    'stationary': False,\n",
       "    'test': 'ADF',\n",
       "    'alpha': 0.05},\n",
       "   'kpss': {'p': 0.01, 'stationary': False, 'test': 'KPSS', 'alpha': 0.05},\n",
       "   'kss': {'test': 'KSS (custom)',\n",
       "    'statistic': -1.9511261516605516,\n",
       "    'p': 0.5,\n",
       "    'critical_values': {'1%': -3.48, '5%': -2.93, '10%': -2.66},\n",
       "    'stationary': False,\n",
       "    'alpha': 0.05,\n",
       "    'warning': 'Critical values approximated for T=100, use bootstrap for exact values'}},\n",
       "  {'adf': {'p': 3.6251135099584703e-28,\n",
       "    'stationary': True,\n",
       "    'test': 'ADF',\n",
       "    'alpha': 0.05},\n",
       "   'kpss': {'p': 0.1, 'stationary': True, 'test': 'KPSS', 'alpha': 0.05},\n",
       "   'kss': {'test': 'KSS (custom)',\n",
       "    'statistic': -25.725524353549435,\n",
       "    'p': 0.01,\n",
       "    'critical_values': {'1%': -3.48, '5%': -2.93, '10%': -2.66},\n",
       "    'stationary': True,\n",
       "    'alpha': 0.05,\n",
       "    'warning': 'Critical values approximated for T=100, use bootstrap for exact values'}}],\n",
       " 'WMT': [{'adf': {'p': 1.0, 'stationary': False, 'test': 'ADF', 'alpha': 0.05},\n",
       "   'kpss': {'p': 0.01, 'stationary': False, 'test': 'KPSS', 'alpha': 0.05},\n",
       "   'kss': {'test': 'KSS (custom)',\n",
       "    'statistic': 4.3877406439605915,\n",
       "    'p': 0.5,\n",
       "    'critical_values': {'1%': -3.48, '5%': -2.93, '10%': -2.66},\n",
       "    'stationary': False,\n",
       "    'alpha': 0.05,\n",
       "    'warning': 'Critical values approximated for T=100, use bootstrap for exact values'}},\n",
       "  {'adf': {'p': 2.1929382996604363e-27,\n",
       "    'stationary': True,\n",
       "    'test': 'ADF',\n",
       "    'alpha': 0.05},\n",
       "   'kpss': {'p': 0.01, 'stationary': False, 'test': 'KPSS', 'alpha': 0.05},\n",
       "   'kss': {'test': 'KSS (custom)',\n",
       "    'statistic': -27.85070420859577,\n",
       "    'p': 0.01,\n",
       "    'critical_values': {'1%': -3.48, '5%': -2.93, '10%': -2.66},\n",
       "    'stationary': True,\n",
       "    'alpha': 0.05,\n",
       "    'warning': 'Critical values approximated for T=100, use bootstrap for exact values'}},\n",
       "  {'adf': {'p': 0.0, 'stationary': True, 'test': 'ADF', 'alpha': 0.05},\n",
       "   'kpss': {'p': 0.1, 'stationary': True, 'test': 'KPSS', 'alpha': 0.05},\n",
       "   'kss': {'test': 'KSS (custom)',\n",
       "    'statistic': -44.267264628507164,\n",
       "    'p': 0.01,\n",
       "    'critical_values': {'1%': -3.48, '5%': -2.93, '10%': -2.66},\n",
       "    'stationary': True,\n",
       "    'alpha': 0.05,\n",
       "    'warning': 'Critical values approximated for T=100, use bootstrap for exact values'}}],\n",
       " 'CVX': [{'adf': {'p': 0.657088232784103,\n",
       "    'stationary': False,\n",
       "    'test': 'ADF',\n",
       "    'alpha': 0.05},\n",
       "   'kpss': {'p': 0.01, 'stationary': False, 'test': 'KPSS', 'alpha': 0.05},\n",
       "   'kss': {'test': 'KSS (custom)',\n",
       "    'statistic': -2.0690195871635395,\n",
       "    'p': 0.5,\n",
       "    'critical_values': {'1%': -3.48, '5%': -2.93, '10%': -2.66},\n",
       "    'stationary': False,\n",
       "    'alpha': 0.05,\n",
       "    'warning': 'Critical values approximated for T=100, use bootstrap for exact values'}},\n",
       "  {'adf': {'p': 2.372809958108834e-30,\n",
       "    'stationary': True,\n",
       "    'test': 'ADF',\n",
       "    'alpha': 0.05},\n",
       "   'kpss': {'p': 0.1, 'stationary': True, 'test': 'KPSS', 'alpha': 0.05},\n",
       "   'kss': {'test': 'KSS (custom)',\n",
       "    'statistic': -35.40140431283952,\n",
       "    'p': 0.01,\n",
       "    'critical_values': {'1%': -3.48, '5%': -2.93, '10%': -2.66},\n",
       "    'stationary': True,\n",
       "    'alpha': 0.05,\n",
       "    'warning': 'Critical values approximated for T=100, use bootstrap for exact values'}}],\n",
       " 'MO': [{'adf': {'p': 0.11576449940708694,\n",
       "    'stationary': False,\n",
       "    'test': 'ADF',\n",
       "    'alpha': 0.05},\n",
       "   'kpss': {'p': 0.015726910893546053,\n",
       "    'stationary': False,\n",
       "    'test': 'KPSS',\n",
       "    'alpha': 0.05},\n",
       "   'kss': {'test': 'KSS (custom)',\n",
       "    'statistic': -3.081187082371362,\n",
       "    'p': 0.05,\n",
       "    'critical_values': {'1%': -3.48, '5%': -2.93, '10%': -2.66},\n",
       "    'stationary': True,\n",
       "    'alpha': 0.05,\n",
       "    'warning': 'Critical values approximated for T=100, use bootstrap for exact values'}},\n",
       "  {'adf': {'p': 0.0, 'stationary': True, 'test': 'ADF', 'alpha': 0.05},\n",
       "   'kpss': {'p': 0.1, 'stationary': True, 'test': 'KPSS', 'alpha': 0.05},\n",
       "   'kss': {'test': 'KSS (custom)',\n",
       "    'statistic': -43.505106535154916,\n",
       "    'p': 0.01,\n",
       "    'critical_values': {'1%': -3.48, '5%': -2.93, '10%': -2.66},\n",
       "    'stationary': True,\n",
       "    'alpha': 0.05,\n",
       "    'warning': 'Critical values approximated for T=100, use bootstrap for exact values'}}]}"
      ]
     },
     "execution_count": 12,
     "metadata": {},
     "output_type": "execute_result"
    }
   ],
   "source": [
    "# Full Test Report for each of the lags and different statisitical test \n",
    "full_report"
   ]
  },
  {
   "cell_type": "code",
   "execution_count": null,
   "metadata": {},
   "outputs": [],
   "source": []
  }
 ],
 "metadata": {
  "kernelspec": {
   "display_name": "TimeSeries",
   "language": "python",
   "name": "python3"
  },
  "language_info": {
   "codemirror_mode": {
    "name": "ipython",
    "version": 3
   },
   "file_extension": ".py",
   "mimetype": "text/x-python",
   "name": "python",
   "nbconvert_exporter": "python",
   "pygments_lexer": "ipython3",
   "version": "3.11.11"
  }
 },
 "nbformat": 4,
 "nbformat_minor": 2
}
