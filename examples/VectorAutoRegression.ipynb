{
 "cells": [
  {
   "cell_type": "code",
   "execution_count": 11,
   "metadata": {},
   "outputs": [
    {
     "name": "stdout",
     "output_type": "stream",
     "text": [
      "(934, 26) (934,)\n"
     ]
    }
   ],
   "source": [
    "import sys \n",
    "sys.path.append('../')\n",
    "\n",
    "from pickle import dump, load\n",
    "data = load(open('data/data.pkl', 'rb'))\n",
    "x = data['xvar']; y = data['yvar']\n",
    "y.name = 'target'\n",
    "print(x.shape, y.shape)"
   ]
  },
  {
   "cell_type": "code",
   "execution_count": 12,
   "metadata": {},
   "outputs": [
    {
     "name": "stdout",
     "output_type": "stream",
     "text": [
      "Dataframe shape: (1832, 27)\n",
      "\n",
      "Checking stationarity of features using ADF test at 0.05 confidence level...\n",
      "put_oi is not stationary, p-value: 0.056 Consider dropping or differencing the feature\n",
      "\n",
      "\n",
      "Non-stationary features: ['put_oi']\n",
      "\n",
      "Trying fewer lags: 19\n",
      "Trying fewer lags: 18\n",
      "Adjusted VAR Model fitting successful (lags=18)\n",
      "Checking Granger Causality tests...\n",
      "\n",
      "call_oi Does Granger Cause target @ 90% confidence level, p-value: 0.032832\n",
      "otm_iv Does Granger Cause target @ 90% confidence level, p-value: 0.000000\n",
      "call_iv_chng Does Granger Cause target @ 90% confidence level, p-value: 0.000000\n",
      "put_iv_chng Does Granger Cause target @ 90% confidence level, p-value: 0.000000\n",
      "otm_iv_chng Does Granger Cause target @ 90% confidence level, p-value: 0.000000\n",
      "put_spread_chng Does Granger Cause target @ 90% confidence level, p-value: 0.000127\n",
      "call_spread_chng Does Granger Cause target @ 90% confidence level, p-value: 0.000012\n",
      "net_call_oi_change5d Does Granger Cause target @ 90% confidence level, p-value: 0.036989\n",
      "net_put_oi_change5d Does Granger Cause target @ 90% confidence level, p-value: 0.005497\n",
      "\n",
      "Finished Checking Granger Causality tests...\n",
      "\n"
     ]
    }
   ],
   "source": [
    "from correlation import analyze_correlation\n",
    "\n",
    "ac = analyze_correlation(x, y, verbose = True)\n",
    "\n",
    "results = ac.analyze()"
   ]
  },
  {
   "cell_type": "code",
   "execution_count": 17,
   "metadata": {},
   "outputs": [],
   "source": [
    "import numpy as np \n",
    "import pandas as pd \n",
    "\n",
    "# Random Time Series \n",
    "np.random.seed(1)\n",
    "n = 500\n",
    "indexvals = np.arange(n)    \n",
    "x = np.random.normal(n, 1, size = (n, 2))\n",
    "y = np.random.normal(0, 1, size = n)\n",
    "dte_index = pd.DatetimeIndex(indexvals)\n",
    "\n",
    "# Create a DataFrame\n",
    "df = pd.DataFrame(x, index = dte_index, columns = ['x1', 'x2'])\n",
    "df['x3'] = df['x1'] * 3.4 + df['x2'] * 2.3 + y * 0.5\n",
    "df['x4'] = df['x3'] + df['x2'].shift(1)\n",
    "df['x4'] = df['x4'].fillna(df['x4'].mean())\n",
    "df['y'] = y\n"
   ]
  },
  {
   "cell_type": "code",
   "execution_count": 21,
   "metadata": {},
   "outputs": [
    {
     "name": "stderr",
     "output_type": "stream",
     "text": [
      "/Users/jerald/opt/miniconda3/envs/TimeSeries/lib/python3.11/site-packages/statsmodels/tsa/base/tsa_model.py:473: ValueWarning: No frequency information was provided, so inferred frequency ns will be used.\n",
      "  self._init_dates(dates, freq)\n"
     ]
    }
   ],
   "source": [
    "from statsmodels.tsa.vector_ar.var_model import VAR\n",
    "\n",
    "\n",
    "model = VAR(df).fit(maxlags = 10)"
   ]
  },
  {
   "cell_type": "code",
   "execution_count": 22,
   "metadata": {},
   "outputs": [
    {
     "data": {
      "text/plain": [
       "10"
      ]
     },
     "execution_count": 22,
     "metadata": {},
     "output_type": "execute_result"
    }
   ],
   "source": [
    "model.k_ar"
   ]
  },
  {
   "cell_type": "code",
   "execution_count": null,
   "metadata": {},
   "outputs": [],
   "source": []
  },
  {
   "cell_type": "code",
   "execution_count": null,
   "metadata": {},
   "outputs": [],
   "source": []
  }
 ],
 "metadata": {
  "kernelspec": {
   "display_name": "TimeSeries",
   "language": "python",
   "name": "python3"
  },
  "language_info": {
   "codemirror_mode": {
    "name": "ipython",
    "version": 3
   },
   "file_extension": ".py",
   "mimetype": "text/x-python",
   "name": "python",
   "nbconvert_exporter": "python",
   "pygments_lexer": "ipython3",
   "version": "3.11.11"
  }
 },
 "nbformat": 4,
 "nbformat_minor": 2
}
