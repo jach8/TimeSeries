{
 "cells": [
  {
   "cell_type": "code",
   "execution_count": 1,
   "metadata": {},
   "outputs": [],
   "source": [
    "import pandas as pd \n",
    "import numpy as np\n",
    "\n",
    "data = pd.read_csv('data/stock_returns.csv', parse_dates=['Date'], index_col='Date').iloc[1:]\n",
    "data = data[\"2000-01-01\":].dropna(axis = 1)\n",
    "random_20_stocks = np.random.choice(data.columns, 60, replace = False)\n",
    "random_y = np.random.choice(random_20_stocks, 1, replace = False)[0]\n",
    "x = data.drop(columns = random_y).iloc[:-1, :10]\n",
    "y = data[random_y].iloc[:-1]"
   ]
  },
  {
   "cell_type": "code",
   "execution_count": 2,
   "metadata": {},
   "outputs": [
    {
     "name": "stderr",
     "output_type": "stream",
     "text": [
      "Stationarity KR: 100%|██████████| 11/11 [00:10<00:00,  1.01it/s] \n",
      "Granger Causality: 0it [00:00, ?it/s]\n"
     ]
    }
   ],
   "source": [
    "import sys \n",
    "sys.path.append('../src')\n",
    "from correlation import AnalyzeCorrelation\n",
    "ac = AnalyzeCorrelation(x, y, verbose=False, decompose=False)\n",
    "results = ac.analyze_relationships()\n",
    "# print(results)"
   ]
  },
  {
   "cell_type": "code",
   "execution_count": 4,
   "metadata": {},
   "outputs": [
    {
     "data": {
      "text/plain": [
       "dict_keys(['stationarity_report', 'var_model', 'causality', 'new_data'])"
      ]
     },
     "execution_count": 4,
     "metadata": {},
     "output_type": "execute_result"
    }
   ],
   "source": [
    "results.keys()"
   ]
  },
  {
   "cell_type": "code",
   "execution_count": 5,
   "metadata": {},
   "outputs": [
    {
     "data": {
      "text/plain": [
       "{'AMZN': {'diffs_applied': 2, 'final_status': 'stationary'},\n",
       " 'SPY': {'diffs_applied': 2, 'final_status': 'stationary'},\n",
       " 'XLF': {'diffs_applied': 1, 'final_status': 'stationary'},\n",
       " 'XLI': {'diffs_applied': 1, 'final_status': 'stationary'},\n",
       " 'PEP': {'diffs_applied': 1, 'final_status': 'stationary'},\n",
       " 'MMM': {'diffs_applied': 1, 'final_status': 'stationary'},\n",
       " 'XLU': {'diffs_applied': 1, 'final_status': 'stationary'},\n",
       " 'UPS': {'diffs_applied': 1, 'final_status': 'stationary'},\n",
       " 'WMT': {'diffs_applied': 2, 'final_status': 'stationary'},\n",
       " 'CVX': {'diffs_applied': 1, 'final_status': 'stationary'},\n",
       " 'KR': {'diffs_applied': 1, 'final_status': 'stationary'}}"
      ]
     },
     "execution_count": 5,
     "metadata": {},
     "output_type": "execute_result"
    }
   ],
   "source": [
    "results['stationarity_report']"
   ]
  },
  {
   "cell_type": "code",
   "execution_count": 6,
   "metadata": {},
   "outputs": [
    {
     "data": {
      "text/plain": [
       "<statsmodels.tsa.vector_ar.var_model.VARResultsWrapper at 0x1520348d0>"
      ]
     },
     "execution_count": 6,
     "metadata": {},
     "output_type": "execute_result"
    }
   ],
   "source": [
    "results['var_model']"
   ]
  },
  {
   "cell_type": "code",
   "execution_count": 7,
   "metadata": {},
   "outputs": [
    {
     "data": {
      "text/plain": [
       "{'granger': [], 'instantaneous': [], 'contemporaneous': []}"
      ]
     },
     "execution_count": 7,
     "metadata": {},
     "output_type": "execute_result"
    }
   ],
   "source": [
    "results['causality']"
   ]
  },
  {
   "cell_type": "code",
   "execution_count": 8,
   "metadata": {},
   "outputs": [
    {
     "data": {
      "text/html": [
       "<div>\n",
       "<style scoped>\n",
       "    .dataframe tbody tr th:only-of-type {\n",
       "        vertical-align: middle;\n",
       "    }\n",
       "\n",
       "    .dataframe tbody tr th {\n",
       "        vertical-align: top;\n",
       "    }\n",
       "\n",
       "    .dataframe thead th {\n",
       "        text-align: right;\n",
       "    }\n",
       "</style>\n",
       "<table border=\"1\" class=\"dataframe\">\n",
       "  <thead>\n",
       "    <tr style=\"text-align: right;\">\n",
       "      <th></th>\n",
       "      <th>AMZN_2</th>\n",
       "      <th>SPY_2</th>\n",
       "      <th>XLF_1</th>\n",
       "      <th>XLI_1</th>\n",
       "      <th>PEP_1</th>\n",
       "      <th>MMM_1</th>\n",
       "      <th>XLU_1</th>\n",
       "      <th>UPS_1</th>\n",
       "      <th>WMT_2</th>\n",
       "      <th>CVX_1</th>\n",
       "      <th>KR_1</th>\n",
       "    </tr>\n",
       "    <tr>\n",
       "      <th>Date</th>\n",
       "      <th></th>\n",
       "      <th></th>\n",
       "      <th></th>\n",
       "      <th></th>\n",
       "      <th></th>\n",
       "      <th></th>\n",
       "      <th></th>\n",
       "      <th></th>\n",
       "      <th></th>\n",
       "      <th></th>\n",
       "      <th></th>\n",
       "    </tr>\n",
       "  </thead>\n",
       "  <tbody>\n",
       "    <tr>\n",
       "      <th>2000-01-05</th>\n",
       "      <td>-0.004041</td>\n",
       "      <td>0.047501</td>\n",
       "      <td>-0.016582</td>\n",
       "      <td>-0.004248</td>\n",
       "      <td>-0.020470</td>\n",
       "      <td>0.026081</td>\n",
       "      <td>0.043108</td>\n",
       "      <td>0.074909</td>\n",
       "      <td>0.027419</td>\n",
       "      <td>0.020397</td>\n",
       "      <td>0.156250</td>\n",
       "    </tr>\n",
       "    <tr>\n",
       "      <th>2000-01-06</th>\n",
       "      <td>0.006805</td>\n",
       "      <td>-0.020000</td>\n",
       "      <td>0.091954</td>\n",
       "      <td>0.012743</td>\n",
       "      <td>0.036553</td>\n",
       "      <td>0.074518</td>\n",
       "      <td>-0.003008</td>\n",
       "      <td>0.000000</td>\n",
       "      <td>0.046179</td>\n",
       "      <td>0.049293</td>\n",
       "      <td>-0.375000</td>\n",
       "    </tr>\n",
       "    <tr>\n",
       "      <th>2000-01-07</th>\n",
       "      <td>0.006965</td>\n",
       "      <td>0.082002</td>\n",
       "      <td>0.036179</td>\n",
       "      <td>0.036635</td>\n",
       "      <td>0.023394</td>\n",
       "      <td>0.019871</td>\n",
       "      <td>0.015038</td>\n",
       "      <td>-0.039747</td>\n",
       "      <td>0.095244</td>\n",
       "      <td>0.021247</td>\n",
       "      <td>-0.093750</td>\n",
       "    </tr>\n",
       "    <tr>\n",
       "      <th>2000-01-10</th>\n",
       "      <td>-0.003722</td>\n",
       "      <td>-0.060001</td>\n",
       "      <td>-0.039194</td>\n",
       "      <td>0.000000</td>\n",
       "      <td>-0.017545</td>\n",
       "      <td>-0.004968</td>\n",
       "      <td>0.006015</td>\n",
       "      <td>0.016816</td>\n",
       "      <td>-0.139980</td>\n",
       "      <td>-0.033145</td>\n",
       "      <td>-0.250000</td>\n",
       "    </tr>\n",
       "    <tr>\n",
       "      <th>2000-01-11</th>\n",
       "      <td>-0.001754</td>\n",
       "      <td>-0.018000</td>\n",
       "      <td>-0.036179</td>\n",
       "      <td>-0.012743</td>\n",
       "      <td>-0.002924</td>\n",
       "      <td>-0.017387</td>\n",
       "      <td>-0.019048</td>\n",
       "      <td>-0.044334</td>\n",
       "      <td>0.005772</td>\n",
       "      <td>-0.011048</td>\n",
       "      <td>-0.062500</td>\n",
       "    </tr>\n",
       "    <tr>\n",
       "      <th>...</th>\n",
       "      <td>...</td>\n",
       "      <td>...</td>\n",
       "      <td>...</td>\n",
       "      <td>...</td>\n",
       "      <td>...</td>\n",
       "      <td>...</td>\n",
       "      <td>...</td>\n",
       "      <td>...</td>\n",
       "      <td>...</td>\n",
       "      <td>...</td>\n",
       "      <td>...</td>\n",
       "    </tr>\n",
       "    <tr>\n",
       "      <th>2025-01-16</th>\n",
       "      <td>-0.140870</td>\n",
       "      <td>-0.093842</td>\n",
       "      <td>0.039192</td>\n",
       "      <td>0.055728</td>\n",
       "      <td>0.041173</td>\n",
       "      <td>0.033272</td>\n",
       "      <td>0.124471</td>\n",
       "      <td>0.060416</td>\n",
       "      <td>-0.040868</td>\n",
       "      <td>0.028556</td>\n",
       "      <td>-0.070000</td>\n",
       "    </tr>\n",
       "    <tr>\n",
       "      <th>2025-01-17</th>\n",
       "      <td>0.135596</td>\n",
       "      <td>0.056641</td>\n",
       "      <td>0.049880</td>\n",
       "      <td>0.027864</td>\n",
       "      <td>0.040004</td>\n",
       "      <td>0.043968</td>\n",
       "      <td>0.007057</td>\n",
       "      <td>-0.005137</td>\n",
       "      <td>0.047102</td>\n",
       "      <td>0.056839</td>\n",
       "      <td>-0.259998</td>\n",
       "    </tr>\n",
       "    <tr>\n",
       "      <th>2025-01-21</th>\n",
       "      <td>-0.008677</td>\n",
       "      <td>-0.003760</td>\n",
       "      <td>0.049880</td>\n",
       "      <td>0.096165</td>\n",
       "      <td>0.007018</td>\n",
       "      <td>0.139270</td>\n",
       "      <td>0.077634</td>\n",
       "      <td>0.076804</td>\n",
       "      <td>0.034634</td>\n",
       "      <td>-0.087843</td>\n",
       "      <td>0.680000</td>\n",
       "    </tr>\n",
       "    <tr>\n",
       "      <th>2025-01-22</th>\n",
       "      <td>-0.007997</td>\n",
       "      <td>-0.016640</td>\n",
       "      <td>-0.028503</td>\n",
       "      <td>-0.011214</td>\n",
       "      <td>-0.010761</td>\n",
       "      <td>0.052998</td>\n",
       "      <td>-0.110997</td>\n",
       "      <td>-0.007827</td>\n",
       "      <td>-0.068576</td>\n",
       "      <td>-0.049769</td>\n",
       "      <td>-0.280003</td>\n",
       "    </tr>\n",
       "    <tr>\n",
       "      <th>2025-01-23</th>\n",
       "      <td>-0.066181</td>\n",
       "      <td>-0.000640</td>\n",
       "      <td>0.034441</td>\n",
       "      <td>0.048252</td>\n",
       "      <td>0.012399</td>\n",
       "      <td>0.012121</td>\n",
       "      <td>0.023739</td>\n",
       "      <td>0.025928</td>\n",
       "      <td>0.029785</td>\n",
       "      <td>-0.010879</td>\n",
       "      <td>-0.189999</td>\n",
       "    </tr>\n",
       "  </tbody>\n",
       "</table>\n",
       "<p>6301 rows × 11 columns</p>\n",
       "</div>"
      ],
      "text/plain": [
       "              AMZN_2     SPY_2     XLF_1     XLI_1     PEP_1     MMM_1  \\\n",
       "Date                                                                     \n",
       "2000-01-05 -0.004041  0.047501 -0.016582 -0.004248 -0.020470  0.026081   \n",
       "2000-01-06  0.006805 -0.020000  0.091954  0.012743  0.036553  0.074518   \n",
       "2000-01-07  0.006965  0.082002  0.036179  0.036635  0.023394  0.019871   \n",
       "2000-01-10 -0.003722 -0.060001 -0.039194  0.000000 -0.017545 -0.004968   \n",
       "2000-01-11 -0.001754 -0.018000 -0.036179 -0.012743 -0.002924 -0.017387   \n",
       "...              ...       ...       ...       ...       ...       ...   \n",
       "2025-01-16 -0.140870 -0.093842  0.039192  0.055728  0.041173  0.033272   \n",
       "2025-01-17  0.135596  0.056641  0.049880  0.027864  0.040004  0.043968   \n",
       "2025-01-21 -0.008677 -0.003760  0.049880  0.096165  0.007018  0.139270   \n",
       "2025-01-22 -0.007997 -0.016640 -0.028503 -0.011214 -0.010761  0.052998   \n",
       "2025-01-23 -0.066181 -0.000640  0.034441  0.048252  0.012399  0.012121   \n",
       "\n",
       "               XLU_1     UPS_1     WMT_2     CVX_1      KR_1  \n",
       "Date                                                          \n",
       "2000-01-05  0.043108  0.074909  0.027419  0.020397  0.156250  \n",
       "2000-01-06 -0.003008  0.000000  0.046179  0.049293 -0.375000  \n",
       "2000-01-07  0.015038 -0.039747  0.095244  0.021247 -0.093750  \n",
       "2000-01-10  0.006015  0.016816 -0.139980 -0.033145 -0.250000  \n",
       "2000-01-11 -0.019048 -0.044334  0.005772 -0.011048 -0.062500  \n",
       "...              ...       ...       ...       ...       ...  \n",
       "2025-01-16  0.124471  0.060416 -0.040868  0.028556 -0.070000  \n",
       "2025-01-17  0.007057 -0.005137  0.047102  0.056839 -0.259998  \n",
       "2025-01-21  0.077634  0.076804  0.034634 -0.087843  0.680000  \n",
       "2025-01-22 -0.110997 -0.007827 -0.068576 -0.049769 -0.280003  \n",
       "2025-01-23  0.023739  0.025928  0.029785 -0.010879 -0.189999  \n",
       "\n",
       "[6301 rows x 11 columns]"
      ]
     },
     "execution_count": 8,
     "metadata": {},
     "output_type": "execute_result"
    }
   ],
   "source": [
    "results['new_data']"
   ]
  },
  {
   "cell_type": "code",
   "execution_count": null,
   "metadata": {},
   "outputs": [],
   "source": []
  },
  {
   "cell_type": "code",
   "execution_count": null,
   "metadata": {},
   "outputs": [],
   "source": []
  }
 ],
 "metadata": {
  "kernelspec": {
   "display_name": "TimeSeries",
   "language": "python",
   "name": "python3"
  },
  "language_info": {
   "codemirror_mode": {
    "name": "ipython",
    "version": 3
   },
   "file_extension": ".py",
   "mimetype": "text/x-python",
   "name": "python",
   "nbconvert_exporter": "python",
   "pygments_lexer": "ipython3",
   "version": "3.11.11"
  }
 },
 "nbformat": 4,
 "nbformat_minor": 2
}
