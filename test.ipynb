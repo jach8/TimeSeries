{
 "cells": [
  {
   "cell_type": "code",
   "execution_count": 1,
   "id": "e2f83948",
   "metadata": {},
   "outputs": [],
   "source": [
    "import timeseriestools as ts "
   ]
  },
  {
   "cell_type": "code",
   "execution_count": 2,
   "id": "6e4349a1",
   "metadata": {},
   "outputs": [
    {
     "data": {
      "text/plain": [
       "{'__name__': 'timeseriestools',\n",
       " '__doc__': None,\n",
       " '__package__': 'timeseriestools',\n",
       " '__loader__': <_frozen_importlib_external.NamespaceLoader at 0x103c075d0>,\n",
       " '__spec__': ModuleSpec(name='timeseriestools', loader=<_frozen_importlib_external.NamespaceLoader object at 0x103c075d0>, submodule_search_locations=_NamespacePath(['/Users/jerald/Documents/Dir/Python/projects/timeseriesmodels/timeseriestools'])),\n",
       " '__file__': None,\n",
       " '__path__': _NamespacePath(['/Users/jerald/Documents/Dir/Python/projects/timeseriesmodels/timeseriestools']),\n",
       " '__annotations__': {}}"
      ]
     },
     "execution_count": 2,
     "metadata": {},
     "output_type": "execute_result"
    }
   ],
   "source": [
    "ts.__dict__"
   ]
  },
  {
   "cell_type": "code",
   "execution_count": null,
   "id": "f6dfa5a5",
   "metadata": {},
   "outputs": [],
   "source": []
  }
 ],
 "metadata": {
  "kernelspec": {
   "display_name": "TimeSeries",
   "language": "python",
   "name": "python3"
  },
  "language_info": {
   "codemirror_mode": {
    "name": "ipython",
    "version": 3
   },
   "file_extension": ".py",
   "mimetype": "text/x-python",
   "name": "python",
   "nbconvert_exporter": "python",
   "pygments_lexer": "ipython3",
   "version": "3.11.11"
  }
 },
 "nbformat": 4,
 "nbformat_minor": 5
}
